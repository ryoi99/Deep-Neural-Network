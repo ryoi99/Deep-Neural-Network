{
 "cells": [
  {
   "cell_type": "markdown",
   "id": "79140898-9096-4b0a-afa0-59e8b5ea1d6e",
   "metadata": {
    "tags": []
   },
   "source": [
    "# ディープニューラルネットワーク"
   ]
  },
  {
   "cell_type": "code",
   "execution_count": 1,
   "id": "12bd5993-6b2a-49d7-b38f-81d4ddadea14",
   "metadata": {
    "tags": []
   },
   "outputs": [],
   "source": [
    "import numpy as np\n",
    "import pandas as pd\n",
    "import matplotlib.pyplot as plt\n",
    "\n",
    "from sklearn.metrics import accuracy_score\n",
    "from sklearn.metrics import precision_score\n",
    "from sklearn.metrics import recall_score\n",
    "from sklearn.metrics import f1_score"
   ]
  },
  {
   "cell_type": "code",
   "execution_count": 2,
   "id": "aa53aede-4b50-4809-822b-050c84a370f3",
   "metadata": {
    "tags": []
   },
   "outputs": [
    {
     "data": {
      "text/plain": [
       "((60000, 28, 28), (60000,), (10000, 28, 28), (10000,))"
      ]
     },
     "execution_count": 2,
     "metadata": {},
     "output_type": "execute_result"
    }
   ],
   "source": [
    "# MNIST\n",
    "from keras.datasets import mnist\n",
    "(X, y), (X_test, y_test) = mnist.load_data()\n",
    "\n",
    "X.shape, y.shape, X_test.shape, y_test.shape"
   ]
  },
  {
   "cell_type": "code",
   "execution_count": 3,
   "id": "262b111d-449d-44f5-9014-8fff645231ef",
   "metadata": {
    "tags": []
   },
   "outputs": [
    {
     "name": "stderr",
     "output_type": "stream",
     "text": [
      "C:\\Users\\ryoga_inaba\\AppData\\Local\\Temp\\ipykernel_18636\\2702144909.py:6: DeprecationWarning: `np.float` is a deprecated alias for the builtin `float`. To silence this warning, use `float` by itself. Doing this will not modify any behavior and is safe. If you specifically wanted the numpy scalar type, use `np.float64` here.\n",
      "Deprecated in NumPy 1.20; for more details and guidance: https://numpy.org/devdocs/release/1.20.0-notes.html#deprecations\n",
      "  X_flat = X_flat.astype(np.float)\n",
      "C:\\Users\\ryoga_inaba\\AppData\\Local\\Temp\\ipykernel_18636\\2702144909.py:7: DeprecationWarning: `np.float` is a deprecated alias for the builtin `float`. To silence this warning, use `float` by itself. Doing this will not modify any behavior and is safe. If you specifically wanted the numpy scalar type, use `np.float64` here.\n",
      "Deprecated in NumPy 1.20; for more details and guidance: https://numpy.org/devdocs/release/1.20.0-notes.html#deprecations\n",
      "  X_test_flat = X_test_flat.astype(np.float)\n"
     ]
    },
    {
     "data": {
      "text/plain": [
       "((60000, 784), (10000, 784))"
      ]
     },
     "execution_count": 3,
     "metadata": {},
     "output_type": "execute_result"
    }
   ],
   "source": [
    "# 平滑化\n",
    "X_flat = X.reshape(-1, 28*28)\n",
    "X_test_flat = X_test.reshape(-1, 28*28)\n",
    "\n",
    "# 型変換\n",
    "X_flat = X_flat.astype(np.float)\n",
    "X_test_flat = X_test_flat.astype(np.float)\n",
    "\n",
    "# 正規化\n",
    "X_flat /= 255\n",
    "X_test_flat /= 255\n",
    "\n",
    "X_flat.shape, X_test_flat.shape"
   ]
  },
  {
   "cell_type": "code",
   "execution_count": 4,
   "id": "a64b4bca-6f7f-4513-b445-2d64be13843d",
   "metadata": {
    "tags": []
   },
   "outputs": [
    {
     "name": "stderr",
     "output_type": "stream",
     "text": [
      "C:\\Users\\ryoga_inaba\\.pyenv\\pyenv-win\\versions\\3.10.5\\lib\\site-packages\\sklearn\\preprocessing\\_encoders.py:868: FutureWarning: `sparse` was renamed to `sparse_output` in version 1.2 and will be removed in 1.4. `sparse_output` is ignored unless you leave `sparse` to its default value.\n",
      "  warnings.warn(\n"
     ]
    },
    {
     "data": {
      "text/plain": [
       "((60000,), (60000, 10))"
      ]
     },
     "execution_count": 4,
     "metadata": {},
     "output_type": "execute_result"
    }
   ],
   "source": [
    "# 正しいラベル値のワンホット エンコーディング\n",
    "from sklearn.preprocessing import OneHotEncoder\n",
    "\n",
    "enc = OneHotEncoder(handle_unknown='ignore', sparse=False)\n",
    "y_one_hot = enc.fit_transform(y[:, np.newaxis])\n",
    "y_test_one_hot = enc.transform(y_test[:, np.newaxis])\n",
    "\n",
    "y.shape, y_one_hot.shape"
   ]
  },
  {
   "cell_type": "code",
   "execution_count": 5,
   "id": "a34d9f57-6ecc-4e78-b87e-efaa62d5de62",
   "metadata": {
    "tags": []
   },
   "outputs": [
    {
     "data": {
      "text/plain": [
       "((48000, 784), (12000, 784), (48000, 10), (12000, 10))"
      ]
     },
     "execution_count": 5,
     "metadata": {},
     "output_type": "execute_result"
    }
   ],
   "source": [
    "# トレーニング データと検証データに分割\n",
    "from sklearn.model_selection import train_test_split\n",
    "\n",
    "X_train, X_valid, y_train, y_valid = train_test_split(X_flat, y_one_hot, test_size=0.2)\n",
    "\n",
    "X_train.shape, X_valid.shape, y_train.shape, y_valid.shape"
   ]
  },
  {
   "cell_type": "markdown",
   "id": "cabdd542-6ea8-4de8-b6dd-098bcd267bb8",
   "metadata": {},
   "source": [
    "## 【問題1】全結合層のクラス化"
   ]
  },
  {
   "cell_type": "code",
   "execution_count": 6,
   "id": "4fa5ac86-c3bf-4ca3-a57a-bc953535215c",
   "metadata": {
    "tags": []
   },
   "outputs": [],
   "source": [
    "class FC:\n",
    "    \"\"\"\n",
    "    ノード数n_nodes1からn_nodes2への全結合層\n",
    "    Parameters\n",
    "    ----------\n",
    "    n_nodes1 : int\n",
    "      前の層のノード数\n",
    "    n_nodes2 : int\n",
    "      後の層のノード数\n",
    "    initializer : 初期化方法のインスタンス\n",
    "    optimizer : 最適化手法のインスタンス\n",
    "    \"\"\"\n",
    "    def __init__(self, n_nodes1, n_nodes2, initializer, optimizer, activation):\n",
    "        \n",
    "        self.n_nodes1 = n_nodes1\n",
    "        self.n_nodes2 = n_nodes2\n",
    "        self.initializer = initializer\n",
    "        self.optimizer = optimizer\n",
    "        self.activation = activation\n",
    "        # 初期化\n",
    "        # initializerのメソッドを使い、self.Wとself.Bを初期化する\n",
    "        self.W = self.initializer.W(self.n_nodes1, self.n_nodes2)\n",
    "        self.B = self.initializer.B(self.n_nodes2)\n",
    "        \n",
    "    def forward(self, X):\n",
    "        \"\"\"\n",
    "        フォワード\n",
    "        Parameters\n",
    "        ----------\n",
    "        X : 次の形のndarray, shape (batch_size, n_nodes1)\n",
    "            入力\n",
    "        Returns\n",
    "        ----------\n",
    "        A : 次の形のndarray, shape (batch_size, n_nodes2)\n",
    "            出力\n",
    "        \"\"\"\n",
    "        self.X = X\n",
    "        self.A = np.dot(self.X, self.W) + self.B\n",
    "        \n",
    "        return self.activation.forward(self.A)\n",
    "    \n",
    "    def backward(self, dZ):\n",
    "        \"\"\"\n",
    "        バックワード\n",
    "        Parameters\n",
    "        ----------\n",
    "        dA : 次の形のndarray, shape (batch_size, n_nodes2)\n",
    "             後ろから流れてきた勾配\n",
    "        Returns\n",
    "        ----------\n",
    "        dZ : 次の形のndarray, shape (batch_size, n_nodes1)\n",
    "             前に流す勾配\n",
    "        \"\"\"\n",
    "        dA = self.activation.backward(dZ)\n",
    "        self.dB = np.mean(dA,axis=0)\n",
    "        self.dW = np.dot(self.X.T,dA)/len(self.X)\n",
    "        dZ = np.dot(dA,self.W.T)\n",
    "        \n",
    "        # 更新\n",
    "        self = self.optimizer.update(self)\n",
    "        \n",
    "        return dZ"
   ]
  },
  {
   "cell_type": "markdown",
   "id": "ee08714a-7de3-4b35-b19e-29e0e553936e",
   "metadata": {},
   "source": [
    "## 【問題2】初期化方法のクラス化"
   ]
  },
  {
   "cell_type": "code",
   "execution_count": 7,
   "id": "15f72f77-e4b8-4c56-b707-83531fbe2c23",
   "metadata": {
    "tags": []
   },
   "outputs": [],
   "source": [
    "class SimpleInitializer:\n",
    "    \"\"\"\n",
    "    ガウス分布によるシンプルな初期化\n",
    "    Parameters\n",
    "    ----------\n",
    "    sigma : float\n",
    "      ガウス分布の標準偏差\n",
    "    \"\"\"\n",
    "    def __init__(self, sigma):\n",
    "        self.sigma = sigma\n",
    "        \n",
    "    def W(self, n_nodes1, n_nodes2):\n",
    "        \"\"\"\n",
    "        重みの初期化\n",
    "        Parameters\n",
    "        ----------\n",
    "        n_nodes1 : int\n",
    "          前の層のノード数\n",
    "        n_nodes2 : int\n",
    "          後の層のノード数\n",
    "\n",
    "        Returns\n",
    "        ----------\n",
    "        W : 重み\n",
    "        \"\"\"\n",
    "        return self.sigma * np.random.randn(n_nodes1, n_nodes2)\n",
    "    \n",
    "    def B(self, n_nodes2):\n",
    "        \"\"\"\n",
    "        バイアスの初期化\n",
    "        Parameters\n",
    "        ----------\n",
    "        n_nodes2 : int\n",
    "          後の層のノード数\n",
    "\n",
    "        Returns\n",
    "        ----------\n",
    "        B : バイアス\n",
    "        \"\"\"\n",
    "        return np.zeros(n_nodes2)"
   ]
  },
  {
   "cell_type": "markdown",
   "id": "fdaf1597-9c52-4cbc-9048-be3ef719b8db",
   "metadata": {},
   "source": [
    "## 【問題3】最適化手法のクラス化"
   ]
  },
  {
   "cell_type": "code",
   "execution_count": 8,
   "id": "8ccdb4d1-94a4-48b5-8a63-6f2a8bd833d6",
   "metadata": {
    "tags": []
   },
   "outputs": [],
   "source": [
    "class SGD:\n",
    "    \"\"\"\n",
    "    確率的勾配降下法\n",
    "    Parameters\n",
    "    ----------\n",
    "    lr : 学習率\n",
    "    \"\"\"\n",
    "    def __init__(self, lr):\n",
    "        self.lr = lr\n",
    "        \n",
    "    def update(self, layer):\n",
    "        \"\"\"\n",
    "        ある層の重みやバイアスの更新\n",
    "        Parameters\n",
    "        ----------\n",
    "        layer : 更新前の層のインスタンス\n",
    "        \"\"\"\n",
    "        layer.W -= self.lr*layer.dW\n",
    "        layer.B -= self.lr*layer.dB\n",
    "        \n",
    "        return layer"
   ]
  },
  {
   "cell_type": "markdown",
   "id": "101dcb53-1f97-477f-931f-765c348ae95f",
   "metadata": {},
   "source": [
    "## 【問題4】活性化関数のクラス化"
   ]
  },
  {
   "cell_type": "code",
   "execution_count": 9,
   "id": "b5ea23ec-7026-4e3f-849e-c441c344b203",
   "metadata": {
    "tags": []
   },
   "outputs": [],
   "source": [
    "class Tanh():\n",
    "    \"\"\"\n",
    "    Activation function : ハイパボリックタンジェント関数\n",
    "    \"\"\"\n",
    "    def __init__(self):\n",
    "        pass\n",
    "        \n",
    "    def forward(self,A):\n",
    "        self.A = A\n",
    "        self.Z = np.tanh(self.A)\n",
    "        return self.Z\n",
    "    \n",
    "    def backward(self,dZ):\n",
    "        return dZ*(1-self.Z**2)"
   ]
  },
  {
   "cell_type": "code",
   "execution_count": 10,
   "id": "2a7314b0-545b-41ad-9c9e-25689c1f5c00",
   "metadata": {
    "tags": []
   },
   "outputs": [],
   "source": [
    "class Sigmoid():\n",
    "    \"\"\"\n",
    "    Activation function : シグモイド関数\n",
    "    \"\"\"\n",
    "    def __init__(self):\n",
    "        pass\n",
    "        \n",
    "    def forward(self,A):\n",
    "        self.A = A\n",
    "        self.Z = 1/(1+np.exp(-self.A))\n",
    "        \n",
    "        return self.Z\n",
    "    \n",
    "    def backward(self,dZ):\n",
    "        return dZ*(1-self.Z)*self.Z"
   ]
  },
  {
   "cell_type": "code",
   "execution_count": 11,
   "id": "d612f862-b3bb-49b6-aadd-275e453c7664",
   "metadata": {
    "tags": []
   },
   "outputs": [],
   "source": [
    "class Softmax():\n",
    "    \"\"\"\n",
    "    Activation Function : ソフトマックス関数\n",
    "    \"\"\"\n",
    "    def __init__(self):\n",
    "        pass\n",
    "        \n",
    "    def forward(self,A):\n",
    "        \n",
    "        return np.exp(A-np.max(A)) / np.sum(np.exp(A-np.max(A)), axis=1, keepdims=True)\n",
    "    \n",
    "    def backward(self,dZ):\n",
    "        return dZ"
   ]
  },
  {
   "cell_type": "markdown",
   "id": "81006429-a8f5-459c-984d-b1e97a98d465",
   "metadata": {},
   "source": [
    "## 【問題5】ReLUクラスの作成"
   ]
  },
  {
   "cell_type": "code",
   "execution_count": 12,
   "id": "086c4e04-f0d1-4aaf-b045-3727ef43f6df",
   "metadata": {
    "tags": []
   },
   "outputs": [],
   "source": [
    "class ReLU():\n",
    "    \"\"\"\n",
    "    Activation function : ReLU関数\n",
    "    \"\"\"\n",
    "    def __init__(self):\n",
    "        pass\n",
    "        \n",
    "    def forward(self,A):\n",
    "        self.A = A\n",
    "        return np.maximum(self.A,0)\n",
    "    \n",
    "    def backward(self,dZ):\n",
    "        \n",
    "        return np.where(self.A>0,dZ,0)"
   ]
  },
  {
   "cell_type": "markdown",
   "id": "809f97bb-7d22-4a3f-af7a-cb5b6ba580a9",
   "metadata": {
    "tags": []
   },
   "source": [
    "## 【問題6】重みの初期値"
   ]
  },
  {
   "cell_type": "code",
   "execution_count": 13,
   "id": "88c9e3ee-62a4-428b-b095-c04548a86777",
   "metadata": {
    "tags": []
   },
   "outputs": [],
   "source": [
    "class XavierInitializer():\n",
    "    \"\"\"\n",
    "    Xavier で重みを初期化する\n",
    "    \"\"\"\n",
    "    def __init__(self):\n",
    "        pass\n",
    "        \n",
    "    def W(self, n_nodes1, n_nodes2):\n",
    "        \"\"\"\n",
    "        重みを初期化\n",
    "        Parameters\n",
    "        ----------\n",
    "        n_nodes1 : int\n",
    "          前の層のノード数\n",
    "        n_nodes2 : int\n",
    "          後の層のノード数\n",
    "\n",
    "        Returns\n",
    "        ----------\n",
    "        W : 重み\n",
    "        \"\"\"\n",
    "        return np.random.randn(n_nodes1, n_nodes2) / np.sqrt(n_nodes1)\n",
    "    \n",
    "    def B(self, n_nodes2):\n",
    "        \"\"\"\n",
    "        バイアスの初期化\n",
    "        Parameters\n",
    "        ----------\n",
    "        n_nodes2 : int\n",
    "          後の層のノード数\n",
    "\n",
    "        Returns\n",
    "        ----------\n",
    "        B : バイアス\n",
    "        \"\"\"\n",
    "        return np.zeros(n_nodes2)"
   ]
  },
  {
   "cell_type": "code",
   "execution_count": 14,
   "id": "1afdbc9f-d5e2-449d-8301-38670aa32f6a",
   "metadata": {
    "tags": []
   },
   "outputs": [],
   "source": [
    "class HeInitializer():\n",
    "    \"\"\"\n",
    "    He による重みの初期化\n",
    "    \"\"\"\n",
    "    def __init__(self):\n",
    "        pass\n",
    "        \n",
    "    def W(self, n_nodes1, n_nodes2):\n",
    "        \"\"\"\n",
    "        重みの初期化\n",
    "        Parameters\n",
    "        ----------\n",
    "        n_nodes1 : int\n",
    "          前の層のノード数\n",
    "        n_nodes2 : int\n",
    "          後の層のノード数\n",
    "\n",
    "        Returns\n",
    "        ----------\n",
    "        W : 重み\n",
    "        \"\"\"\n",
    "        return np.random.randn(n_nodes1, n_nodes2) * np.sqrt(2 / n_nodes1)\n",
    "    \n",
    "    def B(self, n_nodes2):\n",
    "        \"\"\"\n",
    "        バイアスの初期化\n",
    "        Parameters\n",
    "        ----------\n",
    "        n_nodes2 : int\n",
    "          後の層のノード数\n",
    "\n",
    "        Returns\n",
    "        ----------\n",
    "        B : バイアス\n",
    "        \"\"\"\n",
    "        return np.zeros(n_nodes2)"
   ]
  },
  {
   "cell_type": "markdown",
   "id": "b8ab4074-9a32-415d-b0f9-42e1c6890e19",
   "metadata": {},
   "source": [
    "## 【問題7】最適化手法"
   ]
  },
  {
   "cell_type": "code",
   "execution_count": 15,
   "id": "9f15fbea-96bd-4590-980e-e523706b79ae",
   "metadata": {
    "tags": []
   },
   "outputs": [],
   "source": [
    "class AdaGrad:\n",
    "    \"\"\"\n",
    "    確率的勾配降下法\n",
    "    Parameters\n",
    "    ----------\n",
    "    lr : 学習率\n",
    "    \"\"\"\n",
    "    def __init__(self, lr):\n",
    "        self.lr = lr\n",
    "        self.hW = 0\n",
    "        self.hB = 0\n",
    "        \n",
    "    def update(self, layer):\n",
    "        \"\"\"\n",
    "        レイヤーの重みとバイアスの更新\n",
    "        Parameters\n",
    "        ----------\n",
    "        layer : 更新前のレイヤーのインスタンス\n",
    "        \"\"\"\n",
    "        self.hW += layer.dW*layer.dW\n",
    "        self.hB = layer.dB*layer.dB\n",
    "    \n",
    "        layer.W -= self.lr*layer.dW/(np.sqrt(self.hW) +1e-7)\n",
    "        layer.B -= self.lr*layer.dB/(np.sqrt(self.hB) +1e-7)\n",
    "        \n",
    "        return layer"
   ]
  },
  {
   "cell_type": "markdown",
   "id": "690c21c2-dec5-4c00-a60d-de6c9cd089c0",
   "metadata": {},
   "source": [
    "## 【問題8】クラスの完成"
   ]
  },
  {
   "cell_type": "code",
   "execution_count": 16,
   "id": "942c7141-ad2f-43b2-9d82-09aa191b2ab8",
   "metadata": {
    "tags": []
   },
   "outputs": [],
   "source": [
    "# Scratch Deep Neural Network\n",
    "class ScratchDeepNeuralNetworkClassifier():\n",
    "    \"\"\"\n",
    "    N層ニューラル ネットワーク分類器\n",
    "    Parameters\n",
    "    ----------\n",
    "    self.sigma : ガウス分布の標準偏差\n",
    "    self.lr : 学習率\n",
    "    self.n_nodes1 : 1層目のノード数\n",
    "    self.n_nodes2 : 2層目のノード数\n",
    "    self.n_output : 出力層のノード数\n",
    "    \n",
    "    self.n_epoch : エポック数\n",
    "    self.n_batch : バッチ数\n",
    "    self.verbose : 学習プロセスの可視化\n",
    "    Attributes\n",
    "    ----------\n",
    "    \"\"\"\n",
    "    def __init__(self, n_features, n_nodes1, n_nodes2, n_output,\n",
    "                 sigma, n_epoch, n_batch, lr, verbose=False):\n",
    "        # Parameters\n",
    "        self.n_features = n_features\n",
    "        self.n_nodes1 = n_nodes1\n",
    "        self.n_nodes2 = n_nodes2\n",
    "        self.n_output = n_output\n",
    "        self.sigma = sigma\n",
    "        self.n_epoch = n_epoch\n",
    "        self.n_batch = n_batch\n",
    "        self.lr = lr\n",
    "        self.verbose = verbose\n",
    "        self.log_loss = np.zeros(self.n_epoch)\n",
    "    \n",
    "    # 交差エントロピー誤差\n",
    "    def loss_function(self, y, yt):\n",
    "        delta = 1e-7\n",
    "        return - np.mean(yt * np.log(y + delta))\n",
    "\n",
    "    def fit(self, X, y, X_val=False, y_val=False):\n",
    "        \"\"\"\n",
    "        ニューラルネットワーク分類器をトレーニングする\n",
    "\n",
    "        Parameters\n",
    "        ----------\n",
    "        X : 次の形の ndarray、形状 (n_samples、n_features)\n",
    "            訓練データの特徴\n",
    "        y : 次の形の ndarray, shape (n_samples, )\n",
    "            学習データの正解値\n",
    "        X_val : 次の形の ndarray、形状 (n_samples、n_features)\n",
    "            検証データの特徴\n",
    "        y_val : 次の形の ndarray, shape (n_samples, )\n",
    "            検証データの正しい値\n",
    "        \"\"\"\n",
    "        \n",
    "        optimizer1 = AdaGrad(self.lr)\n",
    "        optimizer2 = AdaGrad(self.lr)\n",
    "        optimizer3 = AdaGrad(self.lr)\n",
    "        \n",
    "        initializer1 = XavierInitializer()\n",
    "        initializer2 = XavierInitializer()\n",
    "        initializer3 = SimpleInitializer(self.sigma)\n",
    "        \n",
    "        self.FC1 = FC(self.n_features, self.n_nodes1, initializer1, optimizer1, Tanh())\n",
    "        self.FC2 = FC(self.n_nodes1, self.n_nodes2, initializer2, optimizer2, Tanh())\n",
    "        self.FC3 = FC(self.n_nodes2, self.n_output, initializer3, optimizer3, Softmax())\n",
    "        \n",
    "        for epoch in range(self.n_epoch):\n",
    "            # ミニバッチ処理\n",
    "            get_mini_batch = GetMiniBatch(X, y, batch_size=self.n_batch)\n",
    "            \n",
    "            self.loss = 0\n",
    "            for mini_X_train, mini_y_train in get_mini_batch:\n",
    "                \n",
    "                # フォワードプロパゲーション\n",
    "                self.Z1 = self.FC1.forward(mini_X_train)\n",
    "                self.Z2 = self.FC2.forward(self.Z1)\n",
    "                self.Z3 = self.FC3.forward(self.Z2)    \n",
    "\n",
    "                # バックプロパゲーション\n",
    "                self.dA3 = (self.Z3 - mini_y_train) / self.n_batch\n",
    "                self.dZ2 = self.FC3.backward(self.dA3)\n",
    "                self.dZ1 = self.FC2.backward(self.dZ2)\n",
    "                self.dZ0 = self.FC1.backward(self.dZ1)\n",
    "                \n",
    "                # 損失関数\n",
    "                self.loss += self.loss_function(self.Z3, mini_y_train)\n",
    "                \n",
    "            self.log_loss[epoch] = self.loss / len(get_mini_batch)\n",
    "     \n",
    "    def predict(self, X):\n",
    "        \"\"\"\n",
    "        ニューラル ネットワーク分類器を使用して推定\n",
    "\n",
    "        Parameters\n",
    "        ----------\n",
    "        X : 次の形の ndarray、形状 (n_samples、n_features)\n",
    "            サンプル\n",
    "\n",
    "        Returns\n",
    "        -------\n",
    "            次の形の ndarray、形状 (n_samples, 1)\n",
    "            推定結果\n",
    "        \"\"\"\n",
    "        pred_Z1 = self.FC1.forward(X)\n",
    "        pred_Z2 = self.FC2.forward(pred_Z1)\n",
    "        return np.argmax(self.FC3.forward(pred_Z2), axis=1)"
   ]
  },
  {
   "cell_type": "code",
   "execution_count": 17,
   "id": "50395645-65b9-4c1f-8356-f41a4a280a7a",
   "metadata": {
    "tags": []
   },
   "outputs": [],
   "source": [
    "# ミニバッチ処理クラス\n",
    "class GetMiniBatch:\n",
    "    \"\"\"\n",
    "    ミニバッチを取得するイテレータ\n",
    "\n",
    "    Parameters\n",
    "    ----------\n",
    "    X : 次の形の ndarray、形状 (n_samples、n_features)\n",
    "        訓練データ\n",
    "    y : 次の形の ndarray、形状 (n_samples, 1) \n",
    "        正しい値\n",
    "    batch_size : int\n",
    "      バッチサイズ\n",
    "    seed : int\n",
    "      NumPyでの乱数のシード\n",
    "    \"\"\"\n",
    "    def __init__(self, X, y, batch_size=20, seed=None):\n",
    "        self.batch_size = batch_size\n",
    "        np.random.seed(seed)\n",
    "        shuffle_index = np.random.permutation(np.arange(X.shape[0]))\n",
    "        self._X = X[shuffle_index]\n",
    "        self._y = y[shuffle_index]\n",
    "        self._stop = np.ceil(X.shape[0] / self.batch_size).astype(np.int)\n",
    "    \n",
    "    # ミニバッチの数\n",
    "    def __len__(self):\n",
    "        return self._stop\n",
    "    \n",
    "    def __getitem__(self, item):\n",
    "        p0 = item * self.batch_size\n",
    "        p1 = item * self.batch_size + self.batch_size\n",
    "        return self._X[p0:p1], self._y[p0:p1] \n",
    "    \n",
    "    def __iter__(self):\n",
    "        self._counter = 0\n",
    "        return self\n",
    "    \n",
    "    def __next__(self):\n",
    "        if self._counter >= self._stop:\n",
    "            raise StopIteration()\n",
    "        p0 = self._counter * self.batch_size\n",
    "        p1 = self._counter * self.batch_size + self.batch_size\n",
    "        self._counter += 1\n",
    "        return self._X[p0:p1], self._y[p0:p1]"
   ]
  },
  {
   "cell_type": "code",
   "execution_count": 18,
   "id": "301420b9-c006-450e-acfc-22fe84e59712",
   "metadata": {
    "tags": []
   },
   "outputs": [
    {
     "name": "stderr",
     "output_type": "stream",
     "text": [
      "C:\\Users\\ryoga_inaba\\AppData\\Local\\Temp\\ipykernel_18636\\3602743907.py:23: DeprecationWarning: `np.int` is a deprecated alias for the builtin `int`. To silence this warning, use `int` by itself. Doing this will not modify any behavior and is safe. When replacing `np.int`, you may wish to use e.g. `np.int64` or `np.int32` to specify the precision. If you wish to review your current use, check the release note link for additional information.\n",
      "Deprecated in NumPy 1.20; for more details and guidance: https://numpy.org/devdocs/release/1.20.0-notes.html#deprecations\n",
      "  self._stop = np.ceil(X.shape[0] / self.batch_size).astype(np.int)\n"
     ]
    }
   ],
   "source": [
    "clf = ScratchDeepNeuralNetworkClassifier(n_epoch=5, n_features=784,\n",
    "                                         n_nodes1=400, n_nodes2=200, n_output=10,\n",
    "                                         sigma=0.01, n_batch=100,\n",
    "                                         lr=0.01, verbose=False)\n",
    "\n",
    "clf.fit(X_train, y_train)\n",
    "y_pred = clf.predict(X_valid)"
   ]
  },
  {
   "cell_type": "code",
   "execution_count": 19,
   "id": "c088c87f-0349-43a3-8370-b0140543522e",
   "metadata": {
    "tags": []
   },
   "outputs": [
    {
     "name": "stdout",
     "output_type": "stream",
     "text": [
      "accuracy: 0.962\n"
     ]
    },
    {
     "data": {
      "text/plain": [
       "[<matplotlib.lines.Line2D at 0x28b70d11db0>]"
      ]
     },
     "execution_count": 19,
     "metadata": {},
     "output_type": "execute_result"
    },
    {
     "data": {
      "image/png": "[encoded data removed]",
      "text/plain": [
       "<Figure size 640x480 with 1 Axes>"
      ]
     },
     "metadata": {},
     "output_type": "display_data"
    }
   ],
   "source": [
    "accuracy = accuracy_score(np.argmax(y_valid, axis=1), y_pred)\n",
    "print(f'accuracy: {accuracy:.3f}')\n",
    "\n",
    "plt.title('LOSS')\n",
    "plt.plot(clf.log_loss, 'rs--')"
   ]
  },
  {
   "cell_type": "markdown",
   "id": "dcebe570-431a-4040-8134-af955d98ff56",
   "metadata": {},
   "source": [
    "## 【問題9】学習と推定"
   ]
  },
  {
   "cell_type": "code",
   "execution_count": 20,
   "id": "fcc070fc-28ef-4183-9a5d-b3615eccc6ab",
   "metadata": {
    "tags": []
   },
   "outputs": [],
   "source": [
    "# スクラッチディープニューラルネットワーク (任意のレイヤーで実行できる場合)\n",
    "class ScratchDNNClassifier():\n",
    "    \"\"\"\n",
    "    N層ニューラルネットワーク分類器\n",
    "    \n",
    "    Parameters\n",
    "    ----------\n",
    "    self.n_epoch : エポック数\n",
    "    self.n_batch : バッチ数\n",
    "    self.verbose : 学習プロセスの可視化\n",
    "    Attributes\n",
    "    ----------\n",
    "    \"\"\"\n",
    "    def __init__(self, NN, n_epoch, n_batch, verbose=False):\n",
    "        # Parameters\n",
    "        self.n_epoch = n_epoch\n",
    "        self.n_batch = n_batch\n",
    "        self.verbose = verbose\n",
    "        self.log_loss = np.zeros(self.n_epoch)\n",
    "        self.log_acc = np.zeros(self.n_epoch)\n",
    "        self.NN = NN\n",
    "        \n",
    "    def loss_function(self, y, yt):\n",
    "        delta = 1e-7\n",
    "        return -np.mean(yt*np.log(y+delta))\n",
    "    \n",
    "    def accuracy(self, Z, Y):\n",
    "        return accuracy_score(Y,Z)\n",
    "\n",
    "    def fit(self, X, y, X_val=False, y_val=False):\n",
    "        \"\"\"\n",
    "        ニューラル ネットワーク分類器をトレーニング\n",
    "\n",
    "        Parameters\n",
    "        ----------\n",
    "        X : 次の形の ndarray、形状 (n_samples、n_features)\n",
    "            訓練データの特徴\n",
    "        y : 次の形の ndarray, shape (n_samples, )\n",
    "            学習データの正解値\n",
    "        X_val : 次の形の ndarray、形状 (n_samples、n_features)\n",
    "            検証データの特徴\n",
    "        y_val : 次の形の ndarray, shape (n_samples, )\n",
    "            検証データの正しい値\n",
    "        \"\"\"\n",
    "        for epoch in range(self.n_epoch):\n",
    "            # ミニバッチ処理\n",
    "            get_mini_batch = GetMiniBatch(X, y, batch_size=self.n_batch)\n",
    "            \n",
    "            self.loss = 0\n",
    "            for mini_X_train, mini_y_train in get_mini_batch:\n",
    "                \n",
    "                # フォワードプロパゲーション\n",
    "                forward_data = mini_X_train\n",
    "                for layer in range(len(self.NN)):\n",
    "                    forward_data = self.NN[layer].forward(forward_data)\n",
    "                # 予測値\n",
    "                Z = forward_data\n",
    "                \n",
    "                # バックプロパゲーション\n",
    "                backward_data = (Z - mini_y_train)/self.n_batch\n",
    "                for layer in range(len(self.NN)-1,-1,-1):\n",
    "                    backward_data = self.NN[layer].backward(backward_data)\n",
    "                \n",
    "                # 損失関数\n",
    "                self.loss += self.loss_function(Z,mini_y_train)\n",
    "                \n",
    "            self.log_loss[epoch] = self.loss/len(get_mini_batch)\n",
    "            self.log_acc[epoch] = self.accuracy(self.predict(X),np.argmax(y,axis=1))\n",
    "            \n",
    "    def predict(self, X):\n",
    "        \"\"\"\n",
    "        ニューラルネットワーク分類器を使用して推定\n",
    "\n",
    "        Parameters\n",
    "        ----------\n",
    "        X : 次の形の ndarray、形状 (n_samples、n_features)\n",
    "            サンプル\n",
    "\n",
    "        Returns\n",
    "        -------\n",
    "            次の形の ndarray、形状 (n_samples, 1)\n",
    "            推定結果\n",
    "        \"\"\"\n",
    "        pred_data = X\n",
    "        \n",
    "        for layer in range(len(self.NN)):\n",
    "            pred_data = self.NN[layer].forward(pred_data)\n",
    "            \n",
    "        return np.argmax(pred_data,axis=1)"
   ]
  },
  {
   "cell_type": "markdown",
   "id": "dc996e98-c293-48e4-94de-14c1720d3e4b",
   "metadata": {},
   "source": [
    "### 検証１"
   ]
  },
  {
   "cell_type": "code",
   "execution_count": 21,
   "id": "cd71ab9e-c221-45c2-a6e1-57956125c55c",
   "metadata": {
    "tags": []
   },
   "outputs": [
    {
     "name": "stderr",
     "output_type": "stream",
     "text": [
      "C:\\Users\\ryoga_inaba\\AppData\\Local\\Temp\\ipykernel_18636\\3602743907.py:23: DeprecationWarning: `np.int` is a deprecated alias for the builtin `int`. To silence this warning, use `int` by itself. Doing this will not modify any behavior and is safe. When replacing `np.int`, you may wish to use e.g. `np.int64` or `np.int32` to specify the precision. If you wish to review your current use, check the release note link for additional information.\n",
      "Deprecated in NumPy 1.20; for more details and guidance: https://numpy.org/devdocs/release/1.20.0-notes.html#deprecations\n",
      "  self._stop = np.ceil(X.shape[0] / self.batch_size).astype(np.int)\n",
      "C:\\Users\\ryoga_inaba\\AppData\\Local\\Temp\\ipykernel_18636\\3602743907.py:23: DeprecationWarning: `np.int` is a deprecated alias for the builtin `int`. To silence this warning, use `int` by itself. Doing this will not modify any behavior and is safe. When replacing `np.int`, you may wish to use e.g. `np.int64` or `np.int32` to specify the precision. If you wish to review your current use, check the release note link for additional information.\n",
      "Deprecated in NumPy 1.20; for more details and guidance: https://numpy.org/devdocs/release/1.20.0-notes.html#deprecations\n",
      "  self._stop = np.ceil(X.shape[0] / self.batch_size).astype(np.int)\n",
      "C:\\Users\\ryoga_inaba\\AppData\\Local\\Temp\\ipykernel_18636\\3602743907.py:23: DeprecationWarning: `np.int` is a deprecated alias for the builtin `int`. To silence this warning, use `int` by itself. Doing this will not modify any behavior and is safe. When replacing `np.int`, you may wish to use e.g. `np.int64` or `np.int32` to specify the precision. If you wish to review your current use, check the release note link for additional information.\n",
      "Deprecated in NumPy 1.20; for more details and guidance: https://numpy.org/devdocs/release/1.20.0-notes.html#deprecations\n",
      "  self._stop = np.ceil(X.shape[0] / self.batch_size).astype(np.int)\n",
      "C:\\Users\\ryoga_inaba\\AppData\\Local\\Temp\\ipykernel_18636\\3602743907.py:23: DeprecationWarning: `np.int` is a deprecated alias for the builtin `int`. To silence this warning, use `int` by itself. Doing this will not modify any behavior and is safe. When replacing `np.int`, you may wish to use e.g. `np.int64` or `np.int32` to specify the precision. If you wish to review your current use, check the release note link for additional information.\n",
      "Deprecated in NumPy 1.20; for more details and guidance: https://numpy.org/devdocs/release/1.20.0-notes.html#deprecations\n",
      "  self._stop = np.ceil(X.shape[0] / self.batch_size).astype(np.int)\n",
      "C:\\Users\\ryoga_inaba\\AppData\\Local\\Temp\\ipykernel_18636\\3602743907.py:23: DeprecationWarning: `np.int` is a deprecated alias for the builtin `int`. To silence this warning, use `int` by itself. Doing this will not modify any behavior and is safe. When replacing `np.int`, you may wish to use e.g. `np.int64` or `np.int32` to specify the precision. If you wish to review your current use, check the release note link for additional information.\n",
      "Deprecated in NumPy 1.20; for more details and guidance: https://numpy.org/devdocs/release/1.20.0-notes.html#deprecations\n",
      "  self._stop = np.ceil(X.shape[0] / self.batch_size).astype(np.int)\n",
      "C:\\Users\\ryoga_inaba\\AppData\\Local\\Temp\\ipykernel_18636\\3602743907.py:23: DeprecationWarning: `np.int` is a deprecated alias for the builtin `int`. To silence this warning, use `int` by itself. Doing this will not modify any behavior and is safe. When replacing `np.int`, you may wish to use e.g. `np.int64` or `np.int32` to specify the precision. If you wish to review your current use, check the release note link for additional information.\n",
      "Deprecated in NumPy 1.20; for more details and guidance: https://numpy.org/devdocs/release/1.20.0-notes.html#deprecations\n",
      "  self._stop = np.ceil(X.shape[0] / self.batch_size).astype(np.int)\n",
      "C:\\Users\\ryoga_inaba\\AppData\\Local\\Temp\\ipykernel_18636\\3602743907.py:23: DeprecationWarning: `np.int` is a deprecated alias for the builtin `int`. To silence this warning, use `int` by itself. Doing this will not modify any behavior and is safe. When replacing `np.int`, you may wish to use e.g. `np.int64` or `np.int32` to specify the precision. If you wish to review your current use, check the release note link for additional information.\n",
      "Deprecated in NumPy 1.20; for more details and guidance: https://numpy.org/devdocs/release/1.20.0-notes.html#deprecations\n",
      "  self._stop = np.ceil(X.shape[0] / self.batch_size).astype(np.int)\n",
      "C:\\Users\\ryoga_inaba\\AppData\\Local\\Temp\\ipykernel_18636\\3602743907.py:23: DeprecationWarning: `np.int` is a deprecated alias for the builtin `int`. To silence this warning, use `int` by itself. Doing this will not modify any behavior and is safe. When replacing `np.int`, you may wish to use e.g. `np.int64` or `np.int32` to specify the precision. If you wish to review your current use, check the release note link for additional information.\n",
      "Deprecated in NumPy 1.20; for more details and guidance: https://numpy.org/devdocs/release/1.20.0-notes.html#deprecations\n",
      "  self._stop = np.ceil(X.shape[0] / self.batch_size).astype(np.int)\n",
      "C:\\Users\\ryoga_inaba\\AppData\\Local\\Temp\\ipykernel_18636\\3602743907.py:23: DeprecationWarning: `np.int` is a deprecated alias for the builtin `int`. To silence this warning, use `int` by itself. Doing this will not modify any behavior and is safe. When replacing `np.int`, you may wish to use e.g. `np.int64` or `np.int32` to specify the precision. If you wish to review your current use, check the release note link for additional information.\n",
      "Deprecated in NumPy 1.20; for more details and guidance: https://numpy.org/devdocs/release/1.20.0-notes.html#deprecations\n",
      "  self._stop = np.ceil(X.shape[0] / self.batch_size).astype(np.int)\n",
      "C:\\Users\\ryoga_inaba\\AppData\\Local\\Temp\\ipykernel_18636\\3602743907.py:23: DeprecationWarning: `np.int` is a deprecated alias for the builtin `int`. To silence this warning, use `int` by itself. Doing this will not modify any behavior and is safe. When replacing `np.int`, you may wish to use e.g. `np.int64` or `np.int32` to specify the precision. If you wish to review your current use, check the release note link for additional information.\n",
      "Deprecated in NumPy 1.20; for more details and guidance: https://numpy.org/devdocs/release/1.20.0-notes.html#deprecations\n",
      "  self._stop = np.ceil(X.shape[0] / self.batch_size).astype(np.int)\n",
      "C:\\Users\\ryoga_inaba\\AppData\\Local\\Temp\\ipykernel_18636\\3602743907.py:23: DeprecationWarning: `np.int` is a deprecated alias for the builtin `int`. To silence this warning, use `int` by itself. Doing this will not modify any behavior and is safe. When replacing `np.int`, you may wish to use e.g. `np.int64` or `np.int32` to specify the precision. If you wish to review your current use, check the release note link for additional information.\n",
      "Deprecated in NumPy 1.20; for more details and guidance: https://numpy.org/devdocs/release/1.20.0-notes.html#deprecations\n",
      "  self._stop = np.ceil(X.shape[0] / self.batch_size).astype(np.int)\n",
      "C:\\Users\\ryoga_inaba\\AppData\\Local\\Temp\\ipykernel_18636\\3602743907.py:23: DeprecationWarning: `np.int` is a deprecated alias for the builtin `int`. To silence this warning, use `int` by itself. Doing this will not modify any behavior and is safe. When replacing `np.int`, you may wish to use e.g. `np.int64` or `np.int32` to specify the precision. If you wish to review your current use, check the release note link for additional information.\n",
      "Deprecated in NumPy 1.20; for more details and guidance: https://numpy.org/devdocs/release/1.20.0-notes.html#deprecations\n",
      "  self._stop = np.ceil(X.shape[0] / self.batch_size).astype(np.int)\n",
      "C:\\Users\\ryoga_inaba\\AppData\\Local\\Temp\\ipykernel_18636\\3602743907.py:23: DeprecationWarning: `np.int` is a deprecated alias for the builtin `int`. To silence this warning, use `int` by itself. Doing this will not modify any behavior and is safe. When replacing `np.int`, you may wish to use e.g. `np.int64` or `np.int32` to specify the precision. If you wish to review your current use, check the release note link for additional information.\n",
      "Deprecated in NumPy 1.20; for more details and guidance: https://numpy.org/devdocs/release/1.20.0-notes.html#deprecations\n",
      "  self._stop = np.ceil(X.shape[0] / self.batch_size).astype(np.int)\n",
      "C:\\Users\\ryoga_inaba\\AppData\\Local\\Temp\\ipykernel_18636\\3602743907.py:23: DeprecationWarning: `np.int` is a deprecated alias for the builtin `int`. To silence this warning, use `int` by itself. Doing this will not modify any behavior and is safe. When replacing `np.int`, you may wish to use e.g. `np.int64` or `np.int32` to specify the precision. If you wish to review your current use, check the release note link for additional information.\n",
      "Deprecated in NumPy 1.20; for more details and guidance: https://numpy.org/devdocs/release/1.20.0-notes.html#deprecations\n",
      "  self._stop = np.ceil(X.shape[0] / self.batch_size).astype(np.int)\n",
      "C:\\Users\\ryoga_inaba\\AppData\\Local\\Temp\\ipykernel_18636\\3602743907.py:23: DeprecationWarning: `np.int` is a deprecated alias for the builtin `int`. To silence this warning, use `int` by itself. Doing this will not modify any behavior and is safe. When replacing `np.int`, you may wish to use e.g. `np.int64` or `np.int32` to specify the precision. If you wish to review your current use, check the release note link for additional information.\n",
      "Deprecated in NumPy 1.20; for more details and guidance: https://numpy.org/devdocs/release/1.20.0-notes.html#deprecations\n",
      "  self._stop = np.ceil(X.shape[0] / self.batch_size).astype(np.int)\n",
      "C:\\Users\\ryoga_inaba\\AppData\\Local\\Temp\\ipykernel_18636\\3602743907.py:23: DeprecationWarning: `np.int` is a deprecated alias for the builtin `int`. To silence this warning, use `int` by itself. Doing this will not modify any behavior and is safe. When replacing `np.int`, you may wish to use e.g. `np.int64` or `np.int32` to specify the precision. If you wish to review your current use, check the release note link for additional information.\n",
      "Deprecated in NumPy 1.20; for more details and guidance: https://numpy.org/devdocs/release/1.20.0-notes.html#deprecations\n",
      "  self._stop = np.ceil(X.shape[0] / self.batch_size).astype(np.int)\n",
      "C:\\Users\\ryoga_inaba\\AppData\\Local\\Temp\\ipykernel_18636\\3602743907.py:23: DeprecationWarning: `np.int` is a deprecated alias for the builtin `int`. To silence this warning, use `int` by itself. Doing this will not modify any behavior and is safe. When replacing `np.int`, you may wish to use e.g. `np.int64` or `np.int32` to specify the precision. If you wish to review your current use, check the release note link for additional information.\n",
      "Deprecated in NumPy 1.20; for more details and guidance: https://numpy.org/devdocs/release/1.20.0-notes.html#deprecations\n",
      "  self._stop = np.ceil(X.shape[0] / self.batch_size).astype(np.int)\n",
      "C:\\Users\\ryoga_inaba\\AppData\\Local\\Temp\\ipykernel_18636\\3602743907.py:23: DeprecationWarning: `np.int` is a deprecated alias for the builtin `int`. To silence this warning, use `int` by itself. Doing this will not modify any behavior and is safe. When replacing `np.int`, you may wish to use e.g. `np.int64` or `np.int32` to specify the precision. If you wish to review your current use, check the release note link for additional information.\n",
      "Deprecated in NumPy 1.20; for more details and guidance: https://numpy.org/devdocs/release/1.20.0-notes.html#deprecations\n",
      "  self._stop = np.ceil(X.shape[0] / self.batch_size).astype(np.int)\n",
      "C:\\Users\\ryoga_inaba\\AppData\\Local\\Temp\\ipykernel_18636\\3602743907.py:23: DeprecationWarning: `np.int` is a deprecated alias for the builtin `int`. To silence this warning, use `int` by itself. Doing this will not modify any behavior and is safe. When replacing `np.int`, you may wish to use e.g. `np.int64` or `np.int32` to specify the precision. If you wish to review your current use, check the release note link for additional information.\n",
      "Deprecated in NumPy 1.20; for more details and guidance: https://numpy.org/devdocs/release/1.20.0-notes.html#deprecations\n",
      "  self._stop = np.ceil(X.shape[0] / self.batch_size).astype(np.int)\n",
      "C:\\Users\\ryoga_inaba\\AppData\\Local\\Temp\\ipykernel_18636\\3602743907.py:23: DeprecationWarning: `np.int` is a deprecated alias for the builtin `int`. To silence this warning, use `int` by itself. Doing this will not modify any behavior and is safe. When replacing `np.int`, you may wish to use e.g. `np.int64` or `np.int32` to specify the precision. If you wish to review your current use, check the release note link for additional information.\n",
      "Deprecated in NumPy 1.20; for more details and guidance: https://numpy.org/devdocs/release/1.20.0-notes.html#deprecations\n",
      "  self._stop = np.ceil(X.shape[0] / self.batch_size).astype(np.int)\n",
      "C:\\Users\\ryoga_inaba\\AppData\\Local\\Temp\\ipykernel_18636\\3602743907.py:23: DeprecationWarning: `np.int` is a deprecated alias for the builtin `int`. To silence this warning, use `int` by itself. Doing this will not modify any behavior and is safe. When replacing `np.int`, you may wish to use e.g. `np.int64` or `np.int32` to specify the precision. If you wish to review your current use, check the release note link for additional information.\n",
      "Deprecated in NumPy 1.20; for more details and guidance: https://numpy.org/devdocs/release/1.20.0-notes.html#deprecations\n",
      "  self._stop = np.ceil(X.shape[0] / self.batch_size).astype(np.int)\n",
      "C:\\Users\\ryoga_inaba\\AppData\\Local\\Temp\\ipykernel_18636\\3602743907.py:23: DeprecationWarning: `np.int` is a deprecated alias for the builtin `int`. To silence this warning, use `int` by itself. Doing this will not modify any behavior and is safe. When replacing `np.int`, you may wish to use e.g. `np.int64` or `np.int32` to specify the precision. If you wish to review your current use, check the release note link for additional information.\n",
      "Deprecated in NumPy 1.20; for more details and guidance: https://numpy.org/devdocs/release/1.20.0-notes.html#deprecations\n",
      "  self._stop = np.ceil(X.shape[0] / self.batch_size).astype(np.int)\n",
      "C:\\Users\\ryoga_inaba\\AppData\\Local\\Temp\\ipykernel_18636\\3602743907.py:23: DeprecationWarning: `np.int` is a deprecated alias for the builtin `int`. To silence this warning, use `int` by itself. Doing this will not modify any behavior and is safe. When replacing `np.int`, you may wish to use e.g. `np.int64` or `np.int32` to specify the precision. If you wish to review your current use, check the release note link for additional information.\n",
      "Deprecated in NumPy 1.20; for more details and guidance: https://numpy.org/devdocs/release/1.20.0-notes.html#deprecations\n",
      "  self._stop = np.ceil(X.shape[0] / self.batch_size).astype(np.int)\n",
      "C:\\Users\\ryoga_inaba\\AppData\\Local\\Temp\\ipykernel_18636\\3602743907.py:23: DeprecationWarning: `np.int` is a deprecated alias for the builtin `int`. To silence this warning, use `int` by itself. Doing this will not modify any behavior and is safe. When replacing `np.int`, you may wish to use e.g. `np.int64` or `np.int32` to specify the precision. If you wish to review your current use, check the release note link for additional information.\n",
      "Deprecated in NumPy 1.20; for more details and guidance: https://numpy.org/devdocs/release/1.20.0-notes.html#deprecations\n",
      "  self._stop = np.ceil(X.shape[0] / self.batch_size).astype(np.int)\n",
      "C:\\Users\\ryoga_inaba\\AppData\\Local\\Temp\\ipykernel_18636\\3602743907.py:23: DeprecationWarning: `np.int` is a deprecated alias for the builtin `int`. To silence this warning, use `int` by itself. Doing this will not modify any behavior and is safe. When replacing `np.int`, you may wish to use e.g. `np.int64` or `np.int32` to specify the precision. If you wish to review your current use, check the release note link for additional information.\n",
      "Deprecated in NumPy 1.20; for more details and guidance: https://numpy.org/devdocs/release/1.20.0-notes.html#deprecations\n",
      "  self._stop = np.ceil(X.shape[0] / self.batch_size).astype(np.int)\n",
      "C:\\Users\\ryoga_inaba\\AppData\\Local\\Temp\\ipykernel_18636\\3602743907.py:23: DeprecationWarning: `np.int` is a deprecated alias for the builtin `int`. To silence this warning, use `int` by itself. Doing this will not modify any behavior and is safe. When replacing `np.int`, you may wish to use e.g. `np.int64` or `np.int32` to specify the precision. If you wish to review your current use, check the release note link for additional information.\n",
      "Deprecated in NumPy 1.20; for more details and guidance: https://numpy.org/devdocs/release/1.20.0-notes.html#deprecations\n",
      "  self._stop = np.ceil(X.shape[0] / self.batch_size).astype(np.int)\n",
      "C:\\Users\\ryoga_inaba\\AppData\\Local\\Temp\\ipykernel_18636\\3602743907.py:23: DeprecationWarning: `np.int` is a deprecated alias for the builtin `int`. To silence this warning, use `int` by itself. Doing this will not modify any behavior and is safe. When replacing `np.int`, you may wish to use e.g. `np.int64` or `np.int32` to specify the precision. If you wish to review your current use, check the release note link for additional information.\n",
      "Deprecated in NumPy 1.20; for more details and guidance: https://numpy.org/devdocs/release/1.20.0-notes.html#deprecations\n",
      "  self._stop = np.ceil(X.shape[0] / self.batch_size).astype(np.int)\n",
      "C:\\Users\\ryoga_inaba\\AppData\\Local\\Temp\\ipykernel_18636\\3602743907.py:23: DeprecationWarning: `np.int` is a deprecated alias for the builtin `int`. To silence this warning, use `int` by itself. Doing this will not modify any behavior and is safe. When replacing `np.int`, you may wish to use e.g. `np.int64` or `np.int32` to specify the precision. If you wish to review your current use, check the release note link for additional information.\n",
      "Deprecated in NumPy 1.20; for more details and guidance: https://numpy.org/devdocs/release/1.20.0-notes.html#deprecations\n",
      "  self._stop = np.ceil(X.shape[0] / self.batch_size).astype(np.int)\n",
      "C:\\Users\\ryoga_inaba\\AppData\\Local\\Temp\\ipykernel_18636\\3602743907.py:23: DeprecationWarning: `np.int` is a deprecated alias for the builtin `int`. To silence this warning, use `int` by itself. Doing this will not modify any behavior and is safe. When replacing `np.int`, you may wish to use e.g. `np.int64` or `np.int32` to specify the precision. If you wish to review your current use, check the release note link for additional information.\n",
      "Deprecated in NumPy 1.20; for more details and guidance: https://numpy.org/devdocs/release/1.20.0-notes.html#deprecations\n",
      "  self._stop = np.ceil(X.shape[0] / self.batch_size).astype(np.int)\n",
      "C:\\Users\\ryoga_inaba\\AppData\\Local\\Temp\\ipykernel_18636\\3602743907.py:23: DeprecationWarning: `np.int` is a deprecated alias for the builtin `int`. To silence this warning, use `int` by itself. Doing this will not modify any behavior and is safe. When replacing `np.int`, you may wish to use e.g. `np.int64` or `np.int32` to specify the precision. If you wish to review your current use, check the release note link for additional information.\n",
      "Deprecated in NumPy 1.20; for more details and guidance: https://numpy.org/devdocs/release/1.20.0-notes.html#deprecations\n",
      "  self._stop = np.ceil(X.shape[0] / self.batch_size).astype(np.int)\n"
     ]
    }
   ],
   "source": [
    "NN2 = {\n",
    "    0: FC(784, 200, HeInitializer(), AdaGrad(0.01), ReLU()),\n",
    "    1: FC(200, 10, SimpleInitializer(0.01), AdaGrad(0.01), Softmax())\n",
    "}\n",
    "\n",
    "clf2 = ScratchDNNClassifier(NN=NN2, n_epoch=30, n_batch=20, verbose=False)\n",
    "\n",
    "clf2.fit(X_train, y_train)\n",
    "y_pred2 = clf2.predict(X_valid)"
   ]
  },
  {
   "cell_type": "code",
   "execution_count": 22,
   "id": "7e72677f-a912-4cad-9e72-50c58059f51e",
   "metadata": {
    "tags": []
   },
   "outputs": [
    {
     "name": "stdout",
     "output_type": "stream",
     "text": [
      "accuracy: 0.967\n"
     ]
    },
    {
     "name": "stderr",
     "output_type": "stream",
     "text": [
      "C:\\Users\\ryoga_inaba\\AppData\\Local\\Temp\\ipykernel_18636\\296956693.py:9: MatplotlibDeprecationWarning: Auto-removal of overlapping axes is deprecated since 3.6 and will be removed two minor releases later; explicitly call ax.remove() as needed.\n",
      "  plt.subplot(1,2,1)\n"
     ]
    },
    {
     "data": {
      "text/plain": [
       "[<matplotlib.lines.Line2D at 0x28b2f9f19c0>]"
      ]
     },
     "execution_count": 22,
     "metadata": {},
     "output_type": "execute_result"
    },
    {
     "data": {
      "image/png": "[encoded data removed]",
      "text/plain": [
       "<Figure size 1500x600 with 2 Axes>"
      ]
     },
     "metadata": {},
     "output_type": "display_data"
    }
   ],
   "source": [
    "# Accuracy\n",
    "accuracy = accuracy_score(np.argmax(y_valid, axis=1), y_pred2)\n",
    "print(f'accuracy: {accuracy:.3f}')\n",
    "\n",
    "# グラフ\n",
    "plt.rcParams[\"font.size\"] = 18\n",
    "fig = plt.subplots(figsize=(15,6))\n",
    "\n",
    "plt.subplot(1,2,1)\n",
    "plt.title('LOSS')\n",
    "plt.plot(clf2.log_loss, 'bo--')\n",
    "\n",
    "plt.subplot(1,2,2)\n",
    "plt.title('ACC')\n",
    "plt.plot(clf2.log_acc, 'rs--')"
   ]
  },
  {
   "cell_type": "markdown",
   "id": "66972a81-3c81-45bd-b2b0-934388233c1e",
   "metadata": {},
   "source": [
    "### 検証２"
   ]
  },
  {
   "cell_type": "code",
   "execution_count": 23,
   "id": "640ae99e-bb5e-46b5-81fa-a8958acad0d6",
   "metadata": {
    "tags": []
   },
   "outputs": [
    {
     "name": "stderr",
     "output_type": "stream",
     "text": [
      "C:\\Users\\ryoga_inaba\\AppData\\Local\\Temp\\ipykernel_18636\\3602743907.py:23: DeprecationWarning: `np.int` is a deprecated alias for the builtin `int`. To silence this warning, use `int` by itself. Doing this will not modify any behavior and is safe. When replacing `np.int`, you may wish to use e.g. `np.int64` or `np.int32` to specify the precision. If you wish to review your current use, check the release note link for additional information.\n",
      "Deprecated in NumPy 1.20; for more details and guidance: https://numpy.org/devdocs/release/1.20.0-notes.html#deprecations\n",
      "  self._stop = np.ceil(X.shape[0] / self.batch_size).astype(np.int)\n",
      "C:\\Users\\ryoga_inaba\\AppData\\Local\\Temp\\ipykernel_18636\\3602743907.py:23: DeprecationWarning: `np.int` is a deprecated alias for the builtin `int`. To silence this warning, use `int` by itself. Doing this will not modify any behavior and is safe. When replacing `np.int`, you may wish to use e.g. `np.int64` or `np.int32` to specify the precision. If you wish to review your current use, check the release note link for additional information.\n",
      "Deprecated in NumPy 1.20; for more details and guidance: https://numpy.org/devdocs/release/1.20.0-notes.html#deprecations\n",
      "  self._stop = np.ceil(X.shape[0] / self.batch_size).astype(np.int)\n",
      "C:\\Users\\ryoga_inaba\\AppData\\Local\\Temp\\ipykernel_18636\\3602743907.py:23: DeprecationWarning: `np.int` is a deprecated alias for the builtin `int`. To silence this warning, use `int` by itself. Doing this will not modify any behavior and is safe. When replacing `np.int`, you may wish to use e.g. `np.int64` or `np.int32` to specify the precision. If you wish to review your current use, check the release note link for additional information.\n",
      "Deprecated in NumPy 1.20; for more details and guidance: https://numpy.org/devdocs/release/1.20.0-notes.html#deprecations\n",
      "  self._stop = np.ceil(X.shape[0] / self.batch_size).astype(np.int)\n",
      "C:\\Users\\ryoga_inaba\\AppData\\Local\\Temp\\ipykernel_18636\\3602743907.py:23: DeprecationWarning: `np.int` is a deprecated alias for the builtin `int`. To silence this warning, use `int` by itself. Doing this will not modify any behavior and is safe. When replacing `np.int`, you may wish to use e.g. `np.int64` or `np.int32` to specify the precision. If you wish to review your current use, check the release note link for additional information.\n",
      "Deprecated in NumPy 1.20; for more details and guidance: https://numpy.org/devdocs/release/1.20.0-notes.html#deprecations\n",
      "  self._stop = np.ceil(X.shape[0] / self.batch_size).astype(np.int)\n",
      "C:\\Users\\ryoga_inaba\\AppData\\Local\\Temp\\ipykernel_18636\\3602743907.py:23: DeprecationWarning: `np.int` is a deprecated alias for the builtin `int`. To silence this warning, use `int` by itself. Doing this will not modify any behavior and is safe. When replacing `np.int`, you may wish to use e.g. `np.int64` or `np.int32` to specify the precision. If you wish to review your current use, check the release note link for additional information.\n",
      "Deprecated in NumPy 1.20; for more details and guidance: https://numpy.org/devdocs/release/1.20.0-notes.html#deprecations\n",
      "  self._stop = np.ceil(X.shape[0] / self.batch_size).astype(np.int)\n",
      "C:\\Users\\ryoga_inaba\\AppData\\Local\\Temp\\ipykernel_18636\\3602743907.py:23: DeprecationWarning: `np.int` is a deprecated alias for the builtin `int`. To silence this warning, use `int` by itself. Doing this will not modify any behavior and is safe. When replacing `np.int`, you may wish to use e.g. `np.int64` or `np.int32` to specify the precision. If you wish to review your current use, check the release note link for additional information.\n",
      "Deprecated in NumPy 1.20; for more details and guidance: https://numpy.org/devdocs/release/1.20.0-notes.html#deprecations\n",
      "  self._stop = np.ceil(X.shape[0] / self.batch_size).astype(np.int)\n",
      "C:\\Users\\ryoga_inaba\\AppData\\Local\\Temp\\ipykernel_18636\\3602743907.py:23: DeprecationWarning: `np.int` is a deprecated alias for the builtin `int`. To silence this warning, use `int` by itself. Doing this will not modify any behavior and is safe. When replacing `np.int`, you may wish to use e.g. `np.int64` or `np.int32` to specify the precision. If you wish to review your current use, check the release note link for additional information.\n",
      "Deprecated in NumPy 1.20; for more details and guidance: https://numpy.org/devdocs/release/1.20.0-notes.html#deprecations\n",
      "  self._stop = np.ceil(X.shape[0] / self.batch_size).astype(np.int)\n",
      "C:\\Users\\ryoga_inaba\\AppData\\Local\\Temp\\ipykernel_18636\\3602743907.py:23: DeprecationWarning: `np.int` is a deprecated alias for the builtin `int`. To silence this warning, use `int` by itself. Doing this will not modify any behavior and is safe. When replacing `np.int`, you may wish to use e.g. `np.int64` or `np.int32` to specify the precision. If you wish to review your current use, check the release note link for additional information.\n",
      "Deprecated in NumPy 1.20; for more details and guidance: https://numpy.org/devdocs/release/1.20.0-notes.html#deprecations\n",
      "  self._stop = np.ceil(X.shape[0] / self.batch_size).astype(np.int)\n",
      "C:\\Users\\ryoga_inaba\\AppData\\Local\\Temp\\ipykernel_18636\\3602743907.py:23: DeprecationWarning: `np.int` is a deprecated alias for the builtin `int`. To silence this warning, use `int` by itself. Doing this will not modify any behavior and is safe. When replacing `np.int`, you may wish to use e.g. `np.int64` or `np.int32` to specify the precision. If you wish to review your current use, check the release note link for additional information.\n",
      "Deprecated in NumPy 1.20; for more details and guidance: https://numpy.org/devdocs/release/1.20.0-notes.html#deprecations\n",
      "  self._stop = np.ceil(X.shape[0] / self.batch_size).astype(np.int)\n",
      "C:\\Users\\ryoga_inaba\\AppData\\Local\\Temp\\ipykernel_18636\\3602743907.py:23: DeprecationWarning: `np.int` is a deprecated alias for the builtin `int`. To silence this warning, use `int` by itself. Doing this will not modify any behavior and is safe. When replacing `np.int`, you may wish to use e.g. `np.int64` or `np.int32` to specify the precision. If you wish to review your current use, check the release note link for additional information.\n",
      "Deprecated in NumPy 1.20; for more details and guidance: https://numpy.org/devdocs/release/1.20.0-notes.html#deprecations\n",
      "  self._stop = np.ceil(X.shape[0] / self.batch_size).astype(np.int)\n",
      "C:\\Users\\ryoga_inaba\\AppData\\Local\\Temp\\ipykernel_18636\\3602743907.py:23: DeprecationWarning: `np.int` is a deprecated alias for the builtin `int`. To silence this warning, use `int` by itself. Doing this will not modify any behavior and is safe. When replacing `np.int`, you may wish to use e.g. `np.int64` or `np.int32` to specify the precision. If you wish to review your current use, check the release note link for additional information.\n",
      "Deprecated in NumPy 1.20; for more details and guidance: https://numpy.org/devdocs/release/1.20.0-notes.html#deprecations\n",
      "  self._stop = np.ceil(X.shape[0] / self.batch_size).astype(np.int)\n",
      "C:\\Users\\ryoga_inaba\\AppData\\Local\\Temp\\ipykernel_18636\\3602743907.py:23: DeprecationWarning: `np.int` is a deprecated alias for the builtin `int`. To silence this warning, use `int` by itself. Doing this will not modify any behavior and is safe. When replacing `np.int`, you may wish to use e.g. `np.int64` or `np.int32` to specify the precision. If you wish to review your current use, check the release note link for additional information.\n",
      "Deprecated in NumPy 1.20; for more details and guidance: https://numpy.org/devdocs/release/1.20.0-notes.html#deprecations\n",
      "  self._stop = np.ceil(X.shape[0] / self.batch_size).astype(np.int)\n",
      "C:\\Users\\ryoga_inaba\\AppData\\Local\\Temp\\ipykernel_18636\\3602743907.py:23: DeprecationWarning: `np.int` is a deprecated alias for the builtin `int`. To silence this warning, use `int` by itself. Doing this will not modify any behavior and is safe. When replacing `np.int`, you may wish to use e.g. `np.int64` or `np.int32` to specify the precision. If you wish to review your current use, check the release note link for additional information.\n",
      "Deprecated in NumPy 1.20; for more details and guidance: https://numpy.org/devdocs/release/1.20.0-notes.html#deprecations\n",
      "  self._stop = np.ceil(X.shape[0] / self.batch_size).astype(np.int)\n",
      "C:\\Users\\ryoga_inaba\\AppData\\Local\\Temp\\ipykernel_18636\\3602743907.py:23: DeprecationWarning: `np.int` is a deprecated alias for the builtin `int`. To silence this warning, use `int` by itself. Doing this will not modify any behavior and is safe. When replacing `np.int`, you may wish to use e.g. `np.int64` or `np.int32` to specify the precision. If you wish to review your current use, check the release note link for additional information.\n",
      "Deprecated in NumPy 1.20; for more details and guidance: https://numpy.org/devdocs/release/1.20.0-notes.html#deprecations\n",
      "  self._stop = np.ceil(X.shape[0] / self.batch_size).astype(np.int)\n",
      "C:\\Users\\ryoga_inaba\\AppData\\Local\\Temp\\ipykernel_18636\\3602743907.py:23: DeprecationWarning: `np.int` is a deprecated alias for the builtin `int`. To silence this warning, use `int` by itself. Doing this will not modify any behavior and is safe. When replacing `np.int`, you may wish to use e.g. `np.int64` or `np.int32` to specify the precision. If you wish to review your current use, check the release note link for additional information.\n",
      "Deprecated in NumPy 1.20; for more details and guidance: https://numpy.org/devdocs/release/1.20.0-notes.html#deprecations\n",
      "  self._stop = np.ceil(X.shape[0] / self.batch_size).astype(np.int)\n",
      "C:\\Users\\ryoga_inaba\\AppData\\Local\\Temp\\ipykernel_18636\\3602743907.py:23: DeprecationWarning: `np.int` is a deprecated alias for the builtin `int`. To silence this warning, use `int` by itself. Doing this will not modify any behavior and is safe. When replacing `np.int`, you may wish to use e.g. `np.int64` or `np.int32` to specify the precision. If you wish to review your current use, check the release note link for additional information.\n",
      "Deprecated in NumPy 1.20; for more details and guidance: https://numpy.org/devdocs/release/1.20.0-notes.html#deprecations\n",
      "  self._stop = np.ceil(X.shape[0] / self.batch_size).astype(np.int)\n",
      "C:\\Users\\ryoga_inaba\\AppData\\Local\\Temp\\ipykernel_18636\\3602743907.py:23: DeprecationWarning: `np.int` is a deprecated alias for the builtin `int`. To silence this warning, use `int` by itself. Doing this will not modify any behavior and is safe. When replacing `np.int`, you may wish to use e.g. `np.int64` or `np.int32` to specify the precision. If you wish to review your current use, check the release note link for additional information.\n",
      "Deprecated in NumPy 1.20; for more details and guidance: https://numpy.org/devdocs/release/1.20.0-notes.html#deprecations\n",
      "  self._stop = np.ceil(X.shape[0] / self.batch_size).astype(np.int)\n",
      "C:\\Users\\ryoga_inaba\\AppData\\Local\\Temp\\ipykernel_18636\\3602743907.py:23: DeprecationWarning: `np.int` is a deprecated alias for the builtin `int`. To silence this warning, use `int` by itself. Doing this will not modify any behavior and is safe. When replacing `np.int`, you may wish to use e.g. `np.int64` or `np.int32` to specify the precision. If you wish to review your current use, check the release note link for additional information.\n",
      "Deprecated in NumPy 1.20; for more details and guidance: https://numpy.org/devdocs/release/1.20.0-notes.html#deprecations\n",
      "  self._stop = np.ceil(X.shape[0] / self.batch_size).astype(np.int)\n",
      "C:\\Users\\ryoga_inaba\\AppData\\Local\\Temp\\ipykernel_18636\\3602743907.py:23: DeprecationWarning: `np.int` is a deprecated alias for the builtin `int`. To silence this warning, use `int` by itself. Doing this will not modify any behavior and is safe. When replacing `np.int`, you may wish to use e.g. `np.int64` or `np.int32` to specify the precision. If you wish to review your current use, check the release note link for additional information.\n",
      "Deprecated in NumPy 1.20; for more details and guidance: https://numpy.org/devdocs/release/1.20.0-notes.html#deprecations\n",
      "  self._stop = np.ceil(X.shape[0] / self.batch_size).astype(np.int)\n",
      "C:\\Users\\ryoga_inaba\\AppData\\Local\\Temp\\ipykernel_18636\\3602743907.py:23: DeprecationWarning: `np.int` is a deprecated alias for the builtin `int`. To silence this warning, use `int` by itself. Doing this will not modify any behavior and is safe. When replacing `np.int`, you may wish to use e.g. `np.int64` or `np.int32` to specify the precision. If you wish to review your current use, check the release note link for additional information.\n",
      "Deprecated in NumPy 1.20; for more details and guidance: https://numpy.org/devdocs/release/1.20.0-notes.html#deprecations\n",
      "  self._stop = np.ceil(X.shape[0] / self.batch_size).astype(np.int)\n",
      "C:\\Users\\ryoga_inaba\\AppData\\Local\\Temp\\ipykernel_18636\\3602743907.py:23: DeprecationWarning: `np.int` is a deprecated alias for the builtin `int`. To silence this warning, use `int` by itself. Doing this will not modify any behavior and is safe. When replacing `np.int`, you may wish to use e.g. `np.int64` or `np.int32` to specify the precision. If you wish to review your current use, check the release note link for additional information.\n",
      "Deprecated in NumPy 1.20; for more details and guidance: https://numpy.org/devdocs/release/1.20.0-notes.html#deprecations\n",
      "  self._stop = np.ceil(X.shape[0] / self.batch_size).astype(np.int)\n",
      "C:\\Users\\ryoga_inaba\\AppData\\Local\\Temp\\ipykernel_18636\\3602743907.py:23: DeprecationWarning: `np.int` is a deprecated alias for the builtin `int`. To silence this warning, use `int` by itself. Doing this will not modify any behavior and is safe. When replacing `np.int`, you may wish to use e.g. `np.int64` or `np.int32` to specify the precision. If you wish to review your current use, check the release note link for additional information.\n",
      "Deprecated in NumPy 1.20; for more details and guidance: https://numpy.org/devdocs/release/1.20.0-notes.html#deprecations\n",
      "  self._stop = np.ceil(X.shape[0] / self.batch_size).astype(np.int)\n",
      "C:\\Users\\ryoga_inaba\\AppData\\Local\\Temp\\ipykernel_18636\\3602743907.py:23: DeprecationWarning: `np.int` is a deprecated alias for the builtin `int`. To silence this warning, use `int` by itself. Doing this will not modify any behavior and is safe. When replacing `np.int`, you may wish to use e.g. `np.int64` or `np.int32` to specify the precision. If you wish to review your current use, check the release note link for additional information.\n",
      "Deprecated in NumPy 1.20; for more details and guidance: https://numpy.org/devdocs/release/1.20.0-notes.html#deprecations\n",
      "  self._stop = np.ceil(X.shape[0] / self.batch_size).astype(np.int)\n",
      "C:\\Users\\ryoga_inaba\\AppData\\Local\\Temp\\ipykernel_18636\\3602743907.py:23: DeprecationWarning: `np.int` is a deprecated alias for the builtin `int`. To silence this warning, use `int` by itself. Doing this will not modify any behavior and is safe. When replacing `np.int`, you may wish to use e.g. `np.int64` or `np.int32` to specify the precision. If you wish to review your current use, check the release note link for additional information.\n",
      "Deprecated in NumPy 1.20; for more details and guidance: https://numpy.org/devdocs/release/1.20.0-notes.html#deprecations\n",
      "  self._stop = np.ceil(X.shape[0] / self.batch_size).astype(np.int)\n",
      "C:\\Users\\ryoga_inaba\\AppData\\Local\\Temp\\ipykernel_18636\\3602743907.py:23: DeprecationWarning: `np.int` is a deprecated alias for the builtin `int`. To silence this warning, use `int` by itself. Doing this will not modify any behavior and is safe. When replacing `np.int`, you may wish to use e.g. `np.int64` or `np.int32` to specify the precision. If you wish to review your current use, check the release note link for additional information.\n",
      "Deprecated in NumPy 1.20; for more details and guidance: https://numpy.org/devdocs/release/1.20.0-notes.html#deprecations\n",
      "  self._stop = np.ceil(X.shape[0] / self.batch_size).astype(np.int)\n",
      "C:\\Users\\ryoga_inaba\\AppData\\Local\\Temp\\ipykernel_18636\\3602743907.py:23: DeprecationWarning: `np.int` is a deprecated alias for the builtin `int`. To silence this warning, use `int` by itself. Doing this will not modify any behavior and is safe. When replacing `np.int`, you may wish to use e.g. `np.int64` or `np.int32` to specify the precision. If you wish to review your current use, check the release note link for additional information.\n",
      "Deprecated in NumPy 1.20; for more details and guidance: https://numpy.org/devdocs/release/1.20.0-notes.html#deprecations\n",
      "  self._stop = np.ceil(X.shape[0] / self.batch_size).astype(np.int)\n",
      "C:\\Users\\ryoga_inaba\\AppData\\Local\\Temp\\ipykernel_18636\\3602743907.py:23: DeprecationWarning: `np.int` is a deprecated alias for the builtin `int`. To silence this warning, use `int` by itself. Doing this will not modify any behavior and is safe. When replacing `np.int`, you may wish to use e.g. `np.int64` or `np.int32` to specify the precision. If you wish to review your current use, check the release note link for additional information.\n",
      "Deprecated in NumPy 1.20; for more details and guidance: https://numpy.org/devdocs/release/1.20.0-notes.html#deprecations\n",
      "  self._stop = np.ceil(X.shape[0] / self.batch_size).astype(np.int)\n",
      "C:\\Users\\ryoga_inaba\\AppData\\Local\\Temp\\ipykernel_18636\\3602743907.py:23: DeprecationWarning: `np.int` is a deprecated alias for the builtin `int`. To silence this warning, use `int` by itself. Doing this will not modify any behavior and is safe. When replacing `np.int`, you may wish to use e.g. `np.int64` or `np.int32` to specify the precision. If you wish to review your current use, check the release note link for additional information.\n",
      "Deprecated in NumPy 1.20; for more details and guidance: https://numpy.org/devdocs/release/1.20.0-notes.html#deprecations\n",
      "  self._stop = np.ceil(X.shape[0] / self.batch_size).astype(np.int)\n",
      "C:\\Users\\ryoga_inaba\\AppData\\Local\\Temp\\ipykernel_18636\\3602743907.py:23: DeprecationWarning: `np.int` is a deprecated alias for the builtin `int`. To silence this warning, use `int` by itself. Doing this will not modify any behavior and is safe. When replacing `np.int`, you may wish to use e.g. `np.int64` or `np.int32` to specify the precision. If you wish to review your current use, check the release note link for additional information.\n",
      "Deprecated in NumPy 1.20; for more details and guidance: https://numpy.org/devdocs/release/1.20.0-notes.html#deprecations\n",
      "  self._stop = np.ceil(X.shape[0] / self.batch_size).astype(np.int)\n",
      "C:\\Users\\ryoga_inaba\\AppData\\Local\\Temp\\ipykernel_18636\\3602743907.py:23: DeprecationWarning: `np.int` is a deprecated alias for the builtin `int`. To silence this warning, use `int` by itself. Doing this will not modify any behavior and is safe. When replacing `np.int`, you may wish to use e.g. `np.int64` or `np.int32` to specify the precision. If you wish to review your current use, check the release note link for additional information.\n",
      "Deprecated in NumPy 1.20; for more details and guidance: https://numpy.org/devdocs/release/1.20.0-notes.html#deprecations\n",
      "  self._stop = np.ceil(X.shape[0] / self.batch_size).astype(np.int)\n"
     ]
    }
   ],
   "source": [
    "NN3 = {\n",
    "    0: FC(784, 200, XavierInitializer(), AdaGrad(0.01), Sigmoid()),\n",
    "    1: FC(200, 10, SimpleInitializer(0.01), AdaGrad(0.01), Softmax())\n",
    "}\n",
    "\n",
    "clf3 = ScratchDNNClassifier(NN=NN3, n_epoch=30, n_batch=20, verbose=False)\n",
    "\n",
    "clf3.fit(X_train, y_train)\n",
    "y_pred3 = clf3.predict(X_valid)"
   ]
  },
  {
   "cell_type": "code",
   "execution_count": 24,
   "id": "e9581fe7-6d53-4fa1-8223-58a60a710406",
   "metadata": {
    "tags": []
   },
   "outputs": [
    {
     "name": "stdout",
     "output_type": "stream",
     "text": [
      "accuracy: 0.952\n"
     ]
    },
    {
     "name": "stderr",
     "output_type": "stream",
     "text": [
      "C:\\Users\\ryoga_inaba\\AppData\\Local\\Temp\\ipykernel_18636\\2429380591.py:9: MatplotlibDeprecationWarning: Auto-removal of overlapping axes is deprecated since 3.6 and will be removed two minor releases later; explicitly call ax.remove() as needed.\n",
      "  plt.subplot(1,2,1)\n"
     ]
    },
    {
     "data": {
      "text/plain": [
       "[<matplotlib.lines.Line2D at 0x28b2fb6b0a0>]"
      ]
     },
     "execution_count": 24,
     "metadata": {},
     "output_type": "execute_result"
    },
    {
     "data": {
      "image/png": "[encoded data removed]",
      "text/plain": [
       "<Figure size 1500x600 with 2 Axes>"
      ]
     },
     "metadata": {},
     "output_type": "display_data"
    }
   ],
   "source": [
    "# Accuracy\n",
    "accuracy = accuracy_score(np.argmax(y_valid, axis=1), y_pred3)\n",
    "print(f'accuracy: {accuracy:.3f}')\n",
    "\n",
    "# グラフ\n",
    "plt.rcParams[\"font.size\"] = 18\n",
    "fig = plt.subplots(figsize=(15,6))\n",
    "\n",
    "plt.subplot(1,2,1)\n",
    "plt.title('LOSS')\n",
    "plt.plot(clf3.log_loss, 'bo--')\n",
    "\n",
    "plt.subplot(1,2,2)\n",
    "plt.title('ACC')\n",
    "plt.plot(clf3.log_acc, 'rs--')"
   ]
  }
 ],
 "metadata": {
  "kernelspec": {
   "display_name": "Python 3 (ipykernel)",
   "language": "python",
   "name": "python3"
  },
  "language_info": {
   "codemirror_mode": {
    "name": "ipython",
    "version": 3
   },
   "file_extension": ".py",
   "mimetype": "text/x-python",
   "name": "python",
   "nbconvert_exporter": "python",
   "pygments_lexer": "ipython3",
   "version": "3.10.5"
  }
 },
 "nbformat": 4,
 "nbformat_minor": 5
}
